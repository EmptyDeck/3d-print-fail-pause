{
 "cells": [
  {
   "cell_type": "code",
   "execution_count": null,
   "id": "b672b9e5",
   "metadata": {},
   "outputs": [],
   "source": [
    "import time\n",
    "import cv2\n",
    "import numpy as np\n",
    "from rembg import new_session, remove\n",
    "from PIL import Image\n",
    "\n",
    "def benchmark_model_on_camera(model_name: str, runs: int = 100, cam_index: int = 0):\n",
    "    # Initialize camera\n",
    "    cap = cv2.VideoCapture(cam_index)\n",
    "    if not cap.isOpened():\n",
    "        raise RuntimeError(f\"Could not open camera index {cam_index}\")\n",
    "    \n",
    "    # Warm up camera\n",
    "    for _ in range(10):\n",
    "        cap.read()\n",
    "    \n",
    "    # Create a persistent rembg session\n",
    "    session = new_session(model_name)\n",
    "    \n",
    "    times = []\n",
    "    for i in range(runs):\n",
    "        ret, frame = cap.read()\n",
    "        if not ret:\n",
    "            raise RuntimeError(\"Camera frame grab failed\")\n",
    "        \n",
    "        # Convert to PIL and time only the remove() call + materialization\n",
    "        rgb = cv2.cvtColor(frame, cv2.COLOR_BGR2RGB)\n",
    "        pil = Image.fromarray(rgb)\n",
    "        \n",
    "        start = time.perf_counter()\n",
    "        out = remove(pil, session=session)\n",
    "        _ = np.array(out)    # force decode\n",
    "        elapsed = time.perf_counter() - start\n",
    "        \n",
    "        times.append(elapsed)\n",
    "    \n",
    "    cap.release()\n",
    "    avg_ms = (sum(times) / len(times)) * 1000\n",
    "    print(f\"[{model_name:8s}] average: {avg_ms:.2f} ms over {runs} frames\")\n",
    "\n",
    "if __name__ == \"__main__\":\n",
    "    RUNS = 1\n",
    "    models = (\n",
    "        \"u2net\",                 # full-size general\n",
    "        \"silueta\",               # pruned U²-Net\n",
    "        \"isnet-general-use\",     # ISNet general\n",
    "        \"birefnet-general\",      # BiRefNet general\n",
    "        \"birefnet-general-lite\", # lighter BiRefNet\n",
    "        \"u2netp\",                # pico U²-Net (your single ultra-light model)\n",
    "    )\n",
    "    for model in models:\n",
    "        benchmark_model_on_camera(model, runs=RUNS)\n"
   ]
  }
 ],
 "metadata": {
  "kernelspec": {
   "display_name": "fart",
   "language": "python",
   "name": "python3"
  },
  "language_info": {
   "codemirror_mode": {
    "name": "ipython",
    "version": 3
   },
   "file_extension": ".py",
   "mimetype": "text/x-python",
   "name": "python",
   "nbconvert_exporter": "python",
   "pygments_lexer": "ipython3",
   "version": "3.12.2"
  }
 },
 "nbformat": 4,
 "nbformat_minor": 5
}
